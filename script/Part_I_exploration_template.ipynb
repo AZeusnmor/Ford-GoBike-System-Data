{
 "cells": [
  {
   "attachments": {},
   "cell_type": "markdown",
   "metadata": {},
   "source": [
    "# Part I - Ford GoBike System Dataset\n",
    "#### by Nwangene Sobe-Olisa Andrew\n",
    "\n",
    "\n",
    "### Table of Content\n",
    "* [Introduction](#introduction)\n",
    "* [Data Cleaning](#data-cleaning)\n",
    "* [Feature Engineering](#feature-engineering)\n",
    "* [Data Exploration](#data-exploration)\n",
    "\n",
    "\n",
    "## Introduction\n",
    "Following the description in the accompanying ReadMe file, this project is aimed at identifying information from this company user data. It's divided into subcategories as seen in the table of content. In this introduction section, i'll introduce the dataset, assessing it's characteristics and contents.\n",
    "Firstly, let's import the neccessary packages for this:\n"
   ]
  },
  {
   "cell_type": "code",
   "execution_count": 1,
   "metadata": {},
   "outputs": [
    {
     "data": {
      "text/html": [
       "<div>\n",
       "<style scoped>\n",
       "    .dataframe tbody tr th:only-of-type {\n",
       "        vertical-align: middle;\n",
       "    }\n",
       "\n",
       "    .dataframe tbody tr th {\n",
       "        vertical-align: top;\n",
       "    }\n",
       "\n",
       "    .dataframe thead th {\n",
       "        text-align: right;\n",
       "    }\n",
       "</style>\n",
       "<table border=\"1\" class=\"dataframe\">\n",
       "  <thead>\n",
       "    <tr style=\"text-align: right;\">\n",
       "      <th></th>\n",
       "      <th>duration_sec</th>\n",
       "      <th>start_time</th>\n",
       "      <th>end_time</th>\n",
       "      <th>start_station_id</th>\n",
       "      <th>start_station_name</th>\n",
       "      <th>start_station_latitude</th>\n",
       "      <th>start_station_longitude</th>\n",
       "      <th>end_station_id</th>\n",
       "      <th>end_station_name</th>\n",
       "      <th>end_station_latitude</th>\n",
       "      <th>end_station_longitude</th>\n",
       "      <th>bike_id</th>\n",
       "      <th>user_type</th>\n",
       "      <th>member_birth_year</th>\n",
       "      <th>member_gender</th>\n",
       "      <th>bike_share_for_all_trip</th>\n",
       "    </tr>\n",
       "  </thead>\n",
       "  <tbody>\n",
       "    <tr>\n",
       "      <th>0</th>\n",
       "      <td>52185</td>\n",
       "      <td>2019-02-28 17:32:10.1450</td>\n",
       "      <td>2019-03-01 08:01:55.9750</td>\n",
       "      <td>21.0</td>\n",
       "      <td>Montgomery St BART Station (Market St at 2nd St)</td>\n",
       "      <td>37.789625</td>\n",
       "      <td>-122.400811</td>\n",
       "      <td>13.0</td>\n",
       "      <td>Commercial St at Montgomery St</td>\n",
       "      <td>37.794231</td>\n",
       "      <td>-122.402923</td>\n",
       "      <td>4902</td>\n",
       "      <td>Customer</td>\n",
       "      <td>1984.0</td>\n",
       "      <td>Male</td>\n",
       "      <td>No</td>\n",
       "    </tr>\n",
       "    <tr>\n",
       "      <th>1</th>\n",
       "      <td>42521</td>\n",
       "      <td>2019-02-28 18:53:21.7890</td>\n",
       "      <td>2019-03-01 06:42:03.0560</td>\n",
       "      <td>23.0</td>\n",
       "      <td>The Embarcadero at Steuart St</td>\n",
       "      <td>37.791464</td>\n",
       "      <td>-122.391034</td>\n",
       "      <td>81.0</td>\n",
       "      <td>Berry St at 4th St</td>\n",
       "      <td>37.775880</td>\n",
       "      <td>-122.393170</td>\n",
       "      <td>2535</td>\n",
       "      <td>Customer</td>\n",
       "      <td>NaN</td>\n",
       "      <td>NaN</td>\n",
       "      <td>No</td>\n",
       "    </tr>\n",
       "    <tr>\n",
       "      <th>2</th>\n",
       "      <td>61854</td>\n",
       "      <td>2019-02-28 12:13:13.2180</td>\n",
       "      <td>2019-03-01 05:24:08.1460</td>\n",
       "      <td>86.0</td>\n",
       "      <td>Market St at Dolores St</td>\n",
       "      <td>37.769305</td>\n",
       "      <td>-122.426826</td>\n",
       "      <td>3.0</td>\n",
       "      <td>Powell St BART Station (Market St at 4th St)</td>\n",
       "      <td>37.786375</td>\n",
       "      <td>-122.404904</td>\n",
       "      <td>5905</td>\n",
       "      <td>Customer</td>\n",
       "      <td>1972.0</td>\n",
       "      <td>Male</td>\n",
       "      <td>No</td>\n",
       "    </tr>\n",
       "    <tr>\n",
       "      <th>3</th>\n",
       "      <td>36490</td>\n",
       "      <td>2019-02-28 17:54:26.0100</td>\n",
       "      <td>2019-03-01 04:02:36.8420</td>\n",
       "      <td>375.0</td>\n",
       "      <td>Grove St at Masonic Ave</td>\n",
       "      <td>37.774836</td>\n",
       "      <td>-122.446546</td>\n",
       "      <td>70.0</td>\n",
       "      <td>Central Ave at Fell St</td>\n",
       "      <td>37.773311</td>\n",
       "      <td>-122.444293</td>\n",
       "      <td>6638</td>\n",
       "      <td>Subscriber</td>\n",
       "      <td>1989.0</td>\n",
       "      <td>Other</td>\n",
       "      <td>No</td>\n",
       "    </tr>\n",
       "  </tbody>\n",
       "</table>\n",
       "</div>"
      ],
      "text/plain": [
       "   duration_sec                start_time                  end_time  \\\n",
       "0         52185  2019-02-28 17:32:10.1450  2019-03-01 08:01:55.9750   \n",
       "1         42521  2019-02-28 18:53:21.7890  2019-03-01 06:42:03.0560   \n",
       "2         61854  2019-02-28 12:13:13.2180  2019-03-01 05:24:08.1460   \n",
       "3         36490  2019-02-28 17:54:26.0100  2019-03-01 04:02:36.8420   \n",
       "\n",
       "   start_station_id                                start_station_name  \\\n",
       "0              21.0  Montgomery St BART Station (Market St at 2nd St)   \n",
       "1              23.0                     The Embarcadero at Steuart St   \n",
       "2              86.0                           Market St at Dolores St   \n",
       "3             375.0                           Grove St at Masonic Ave   \n",
       "\n",
       "   start_station_latitude  start_station_longitude  end_station_id  \\\n",
       "0               37.789625              -122.400811            13.0   \n",
       "1               37.791464              -122.391034            81.0   \n",
       "2               37.769305              -122.426826             3.0   \n",
       "3               37.774836              -122.446546            70.0   \n",
       "\n",
       "                               end_station_name  end_station_latitude  \\\n",
       "0                Commercial St at Montgomery St             37.794231   \n",
       "1                            Berry St at 4th St             37.775880   \n",
       "2  Powell St BART Station (Market St at 4th St)             37.786375   \n",
       "3                        Central Ave at Fell St             37.773311   \n",
       "\n",
       "   end_station_longitude  bike_id   user_type  member_birth_year  \\\n",
       "0            -122.402923     4902    Customer             1984.0   \n",
       "1            -122.393170     2535    Customer                NaN   \n",
       "2            -122.404904     5905    Customer             1972.0   \n",
       "3            -122.444293     6638  Subscriber             1989.0   \n",
       "\n",
       "  member_gender bike_share_for_all_trip  \n",
       "0          Male                      No  \n",
       "1           NaN                      No  \n",
       "2          Male                      No  \n",
       "3         Other                      No  "
      ]
     },
     "execution_count": 1,
     "metadata": {},
     "output_type": "execute_result"
    }
   ],
   "source": [
    "# import all packages and set plots to be embedded inline\n",
    "import numpy as np\n",
    "import pandas as pd\n",
    "import matplotlib.pyplot as plt\n",
    "import seaborn as sb\n",
    "import datetime as dt\n",
    "%matplotlib inline\n",
    "import warnings\n",
    "warnings.filterwarnings('ignore')\n",
    "\n",
    "# loading the dataset into pandas dataframe  \n",
    "bike= pd.read_csv('../data/201902-fordgobike-tripdata.csv')\n",
    "bike.head(4)"
   ]
  },
  {
   "cell_type": "code",
   "execution_count": 2,
   "metadata": {},
   "outputs": [
    {
     "name": "stdout",
     "output_type": "stream",
     "text": [
      "<class 'pandas.core.frame.DataFrame'>\n",
      "RangeIndex: 183412 entries, 0 to 183411\n",
      "Data columns (total 16 columns):\n",
      " #   Column                   Non-Null Count   Dtype  \n",
      "---  ------                   --------------   -----  \n",
      " 0   duration_sec             183412 non-null  int64  \n",
      " 1   start_time               183412 non-null  object \n",
      " 2   end_time                 183412 non-null  object \n",
      " 3   start_station_id         183215 non-null  float64\n",
      " 4   start_station_name       183215 non-null  object \n",
      " 5   start_station_latitude   183412 non-null  float64\n",
      " 6   start_station_longitude  183412 non-null  float64\n",
      " 7   end_station_id           183215 non-null  float64\n",
      " 8   end_station_name         183215 non-null  object \n",
      " 9   end_station_latitude     183412 non-null  float64\n",
      " 10  end_station_longitude    183412 non-null  float64\n",
      " 11  bike_id                  183412 non-null  int64  \n",
      " 12  user_type                183412 non-null  object \n",
      " 13  member_birth_year        175147 non-null  float64\n",
      " 14  member_gender            175147 non-null  object \n",
      " 15  bike_share_for_all_trip  183412 non-null  object \n",
      "dtypes: float64(7), int64(2), object(7)\n",
      "memory usage: 22.4+ MB\n"
     ]
    }
   ],
   "source": [
    "# returns the general info of dataset include datatype\n",
    "bike.info()"
   ]
  },
  {
   "cell_type": "code",
   "execution_count": 3,
   "metadata": {},
   "outputs": [
    {
     "name": "stdout",
     "output_type": "stream",
     "text": [
      "Dataset size: (183412, 16)\n",
      "######################################################################\n",
      " Number of unique Values: duration_sec                 4752\n",
      "start_time                 183401\n",
      "end_time                   183397\n",
      "start_station_id              329\n",
      "start_station_name            329\n",
      "start_station_latitude        334\n",
      "start_station_longitude       335\n",
      "end_station_id                329\n",
      "end_station_name              329\n",
      "end_station_latitude          335\n",
      "end_station_longitude         335\n",
      "bike_id                      4646\n",
      "user_type                       2\n",
      "member_birth_year              75\n",
      "member_gender                   3\n",
      "bike_share_for_all_trip         2\n",
      "dtype: int64\n",
      "######################################################################\n",
      " number of null values in each column: duration_sec                  0\n",
      "start_time                    0\n",
      "end_time                      0\n",
      "start_station_id            197\n",
      "start_station_name          197\n",
      "start_station_latitude        0\n",
      "start_station_longitude       0\n",
      "end_station_id              197\n",
      "end_station_name            197\n",
      "end_station_latitude          0\n",
      "end_station_longitude         0\n",
      "bike_id                       0\n",
      "user_type                     0\n",
      "member_birth_year          8265\n",
      "member_gender              8265\n",
      "bike_share_for_all_trip       0\n",
      "dtype: int64\n"
     ]
    }
   ],
   "source": [
    "print(f'Dataset size: {bike.shape}')# returns the number of rows and columns in dataframe\n",
    "print('#' *70) # to separate the different outputs\n",
    "print(f' Number of unique Values: {bike.nunique()}')# returns number of unique values in each column\n",
    "print('#' *70) # to separate the different outputs\n",
    "print(f' number of null values in each column: {bike.isnull().sum()}')# returns sum of null values in each column"
   ]
  },
  {
   "cell_type": "code",
   "execution_count": 4,
   "metadata": {},
   "outputs": [
    {
     "data": {
      "text/html": [
       "<div>\n",
       "<style scoped>\n",
       "    .dataframe tbody tr th:only-of-type {\n",
       "        vertical-align: middle;\n",
       "    }\n",
       "\n",
       "    .dataframe tbody tr th {\n",
       "        vertical-align: top;\n",
       "    }\n",
       "\n",
       "    .dataframe thead th {\n",
       "        text-align: right;\n",
       "    }\n",
       "</style>\n",
       "<table border=\"1\" class=\"dataframe\">\n",
       "  <thead>\n",
       "    <tr style=\"text-align: right;\">\n",
       "      <th></th>\n",
       "      <th>duration_sec</th>\n",
       "      <th>start_station_id</th>\n",
       "      <th>start_station_latitude</th>\n",
       "      <th>start_station_longitude</th>\n",
       "      <th>end_station_id</th>\n",
       "      <th>end_station_latitude</th>\n",
       "      <th>end_station_longitude</th>\n",
       "      <th>bike_id</th>\n",
       "      <th>member_birth_year</th>\n",
       "    </tr>\n",
       "  </thead>\n",
       "  <tbody>\n",
       "    <tr>\n",
       "      <th>count</th>\n",
       "      <td>183412.000000</td>\n",
       "      <td>183215.000000</td>\n",
       "      <td>183412.000000</td>\n",
       "      <td>183412.000000</td>\n",
       "      <td>183215.000000</td>\n",
       "      <td>183412.000000</td>\n",
       "      <td>183412.000000</td>\n",
       "      <td>183412.000000</td>\n",
       "      <td>175147.000000</td>\n",
       "    </tr>\n",
       "    <tr>\n",
       "      <th>mean</th>\n",
       "      <td>726.078435</td>\n",
       "      <td>138.590427</td>\n",
       "      <td>37.771223</td>\n",
       "      <td>-122.352664</td>\n",
       "      <td>136.249123</td>\n",
       "      <td>37.771427</td>\n",
       "      <td>-122.352250</td>\n",
       "      <td>4472.906375</td>\n",
       "      <td>1984.806437</td>\n",
       "    </tr>\n",
       "    <tr>\n",
       "      <th>std</th>\n",
       "      <td>1794.389780</td>\n",
       "      <td>111.778864</td>\n",
       "      <td>0.099581</td>\n",
       "      <td>0.117097</td>\n",
       "      <td>111.515131</td>\n",
       "      <td>0.099490</td>\n",
       "      <td>0.116673</td>\n",
       "      <td>1664.383394</td>\n",
       "      <td>10.116689</td>\n",
       "    </tr>\n",
       "    <tr>\n",
       "      <th>min</th>\n",
       "      <td>61.000000</td>\n",
       "      <td>3.000000</td>\n",
       "      <td>37.317298</td>\n",
       "      <td>-122.453704</td>\n",
       "      <td>3.000000</td>\n",
       "      <td>37.317298</td>\n",
       "      <td>-122.453704</td>\n",
       "      <td>11.000000</td>\n",
       "      <td>1878.000000</td>\n",
       "    </tr>\n",
       "    <tr>\n",
       "      <th>25%</th>\n",
       "      <td>325.000000</td>\n",
       "      <td>47.000000</td>\n",
       "      <td>37.770083</td>\n",
       "      <td>-122.412408</td>\n",
       "      <td>44.000000</td>\n",
       "      <td>37.770407</td>\n",
       "      <td>-122.411726</td>\n",
       "      <td>3777.000000</td>\n",
       "      <td>1980.000000</td>\n",
       "    </tr>\n",
       "    <tr>\n",
       "      <th>50%</th>\n",
       "      <td>514.000000</td>\n",
       "      <td>104.000000</td>\n",
       "      <td>37.780760</td>\n",
       "      <td>-122.398285</td>\n",
       "      <td>100.000000</td>\n",
       "      <td>37.781010</td>\n",
       "      <td>-122.398279</td>\n",
       "      <td>4958.000000</td>\n",
       "      <td>1987.000000</td>\n",
       "    </tr>\n",
       "    <tr>\n",
       "      <th>75%</th>\n",
       "      <td>796.000000</td>\n",
       "      <td>239.000000</td>\n",
       "      <td>37.797280</td>\n",
       "      <td>-122.286533</td>\n",
       "      <td>235.000000</td>\n",
       "      <td>37.797320</td>\n",
       "      <td>-122.288045</td>\n",
       "      <td>5502.000000</td>\n",
       "      <td>1992.000000</td>\n",
       "    </tr>\n",
       "    <tr>\n",
       "      <th>max</th>\n",
       "      <td>85444.000000</td>\n",
       "      <td>398.000000</td>\n",
       "      <td>37.880222</td>\n",
       "      <td>-121.874119</td>\n",
       "      <td>398.000000</td>\n",
       "      <td>37.880222</td>\n",
       "      <td>-121.874119</td>\n",
       "      <td>6645.000000</td>\n",
       "      <td>2001.000000</td>\n",
       "    </tr>\n",
       "  </tbody>\n",
       "</table>\n",
       "</div>"
      ],
      "text/plain": [
       "        duration_sec  start_station_id  start_station_latitude  \\\n",
       "count  183412.000000     183215.000000           183412.000000   \n",
       "mean      726.078435        138.590427               37.771223   \n",
       "std      1794.389780        111.778864                0.099581   \n",
       "min        61.000000          3.000000               37.317298   \n",
       "25%       325.000000         47.000000               37.770083   \n",
       "50%       514.000000        104.000000               37.780760   \n",
       "75%       796.000000        239.000000               37.797280   \n",
       "max     85444.000000        398.000000               37.880222   \n",
       "\n",
       "       start_station_longitude  end_station_id  end_station_latitude  \\\n",
       "count            183412.000000   183215.000000         183412.000000   \n",
       "mean               -122.352664      136.249123             37.771427   \n",
       "std                   0.117097      111.515131              0.099490   \n",
       "min                -122.453704        3.000000             37.317298   \n",
       "25%                -122.412408       44.000000             37.770407   \n",
       "50%                -122.398285      100.000000             37.781010   \n",
       "75%                -122.286533      235.000000             37.797320   \n",
       "max                -121.874119      398.000000             37.880222   \n",
       "\n",
       "       end_station_longitude        bike_id  member_birth_year  \n",
       "count          183412.000000  183412.000000      175147.000000  \n",
       "mean             -122.352250    4472.906375        1984.806437  \n",
       "std                 0.116673    1664.383394          10.116689  \n",
       "min              -122.453704      11.000000        1878.000000  \n",
       "25%              -122.411726    3777.000000        1980.000000  \n",
       "50%              -122.398279    4958.000000        1987.000000  \n",
       "75%              -122.288045    5502.000000        1992.000000  \n",
       "max              -121.874119    6645.000000        2001.000000  "
      ]
     },
     "execution_count": 4,
     "metadata": {},
     "output_type": "execute_result"
    }
   ],
   "source": [
    "bike.describe()"
   ]
  },
  {
   "cell_type": "code",
   "execution_count": 5,
   "metadata": {},
   "outputs": [
    {
     "data": {
      "text/html": [
       "<div>\n",
       "<style scoped>\n",
       "    .dataframe tbody tr th:only-of-type {\n",
       "        vertical-align: middle;\n",
       "    }\n",
       "\n",
       "    .dataframe tbody tr th {\n",
       "        vertical-align: top;\n",
       "    }\n",
       "\n",
       "    .dataframe thead th {\n",
       "        text-align: right;\n",
       "    }\n",
       "</style>\n",
       "<table border=\"1\" class=\"dataframe\">\n",
       "  <thead>\n",
       "    <tr style=\"text-align: right;\">\n",
       "      <th></th>\n",
       "      <th>start_time</th>\n",
       "      <th>end_time</th>\n",
       "      <th>start_station_name</th>\n",
       "      <th>end_station_name</th>\n",
       "      <th>user_type</th>\n",
       "      <th>member_gender</th>\n",
       "      <th>bike_share_for_all_trip</th>\n",
       "    </tr>\n",
       "  </thead>\n",
       "  <tbody>\n",
       "    <tr>\n",
       "      <th>count</th>\n",
       "      <td>183412</td>\n",
       "      <td>183412</td>\n",
       "      <td>183215</td>\n",
       "      <td>183215</td>\n",
       "      <td>183412</td>\n",
       "      <td>175147</td>\n",
       "      <td>183412</td>\n",
       "    </tr>\n",
       "    <tr>\n",
       "      <th>unique</th>\n",
       "      <td>183401</td>\n",
       "      <td>183397</td>\n",
       "      <td>329</td>\n",
       "      <td>329</td>\n",
       "      <td>2</td>\n",
       "      <td>3</td>\n",
       "      <td>2</td>\n",
       "    </tr>\n",
       "    <tr>\n",
       "      <th>top</th>\n",
       "      <td>2019-02-19 17:52:44.1750</td>\n",
       "      <td>2019-02-14 18:14:03.9280</td>\n",
       "      <td>Market St at 10th St</td>\n",
       "      <td>San Francisco Caltrain Station 2  (Townsend St...</td>\n",
       "      <td>Subscriber</td>\n",
       "      <td>Male</td>\n",
       "      <td>No</td>\n",
       "    </tr>\n",
       "    <tr>\n",
       "      <th>freq</th>\n",
       "      <td>2</td>\n",
       "      <td>2</td>\n",
       "      <td>3904</td>\n",
       "      <td>4857</td>\n",
       "      <td>163544</td>\n",
       "      <td>130651</td>\n",
       "      <td>166053</td>\n",
       "    </tr>\n",
       "  </tbody>\n",
       "</table>\n",
       "</div>"
      ],
      "text/plain": [
       "                      start_time                  end_time  \\\n",
       "count                     183412                    183412   \n",
       "unique                    183401                    183397   \n",
       "top     2019-02-19 17:52:44.1750  2019-02-14 18:14:03.9280   \n",
       "freq                           2                         2   \n",
       "\n",
       "          start_station_name  \\\n",
       "count                 183215   \n",
       "unique                   329   \n",
       "top     Market St at 10th St   \n",
       "freq                    3904   \n",
       "\n",
       "                                         end_station_name   user_type  \\\n",
       "count                                              183215      183412   \n",
       "unique                                                329           2   \n",
       "top     San Francisco Caltrain Station 2  (Townsend St...  Subscriber   \n",
       "freq                                                 4857      163544   \n",
       "\n",
       "       member_gender bike_share_for_all_trip  \n",
       "count         175147                  183412  \n",
       "unique             3                       2  \n",
       "top             Male                      No  \n",
       "freq          130651                  166053  "
      ]
     },
     "execution_count": 5,
     "metadata": {},
     "output_type": "execute_result"
    }
   ],
   "source": [
    "bike.describe(include=['O'])"
   ]
  },
  {
   "cell_type": "code",
   "execution_count": 6,
   "metadata": {},
   "outputs": [
    {
     "data": {
      "text/plain": [
       "Index(['duration_sec', 'start_time', 'end_time', 'start_station_id',\n",
       "       'start_station_name', 'start_station_latitude',\n",
       "       'start_station_longitude', 'end_station_id', 'end_station_name',\n",
       "       'end_station_latitude', 'end_station_longitude', 'bike_id', 'user_type',\n",
       "       'member_birth_year', 'member_gender', 'bike_share_for_all_trip'],\n",
       "      dtype='object')"
      ]
     },
     "execution_count": 6,
     "metadata": {},
     "output_type": "execute_result"
    }
   ],
   "source": [
    "bike.columns"
   ]
  },
  {
   "attachments": {},
   "cell_type": "markdown",
   "metadata": {},
   "source": [
    "These cell blocks above have shown different data qaulity issues plaguing the datasets. Checking for column data uniqueness indicates if such column is a categorical variable column or not. Also, the number of null values per column is shown too. It also shows that the dataset contains over 18k data rows and 16 columns. Subsequently, the data cleaning section will address this data quality issues."
   ]
  },
  {
   "attachments": {},
   "cell_type": "markdown",
   "metadata": {},
   "source": [
    "## Data Cleaning:\n",
    "Here, the data quality issues identified from the data overview actvity in the introductory section will be addressed. These is very import as the quality of a dataset is directly proportional to the quality of analysis derived from this dataset. First, we create a copy of the dataset. These prevents unreversible adjustment from corrupting the orignal dataset."
   ]
  },
  {
   "cell_type": "code",
   "execution_count": 7,
   "metadata": {},
   "outputs": [],
   "source": [
    "# so let's create a copy to be used for the analysis\n",
    "df = bike.copy()"
   ]
  },
  {
   "attachments": {},
   "cell_type": "markdown",
   "metadata": {},
   "source": [
    "#### Issue #1: changing data types for `bike_share_for_all_trip`, `member_gender` and `user_type`"
   ]
  },
  {
   "cell_type": "markdown",
   "metadata": {},
   "source": [
    "#### Code"
   ]
  },
  {
   "cell_type": "code",
   "execution_count": 8,
   "metadata": {},
   "outputs": [],
   "source": [
    "# convert 'bike_share_for_all_trip', 'member_gender', 'user_type' to categorical type as the content are categorical\n",
    "category_var_dict = {'bike_share_for_all_trip': ['No','Yes'],\n",
    "                    'member_gender': ['Male','Other','Female'],\n",
    "                    'user_type': ['Customer', 'Subscriber']}\n",
    "\n",
    "for var in category_var_dict:\n",
    "    category_var = pd.api.types.CategoricalDtype(ordered = True,\n",
    "                                                categories = category_var_dict[var])\n",
    "    df[var] = df[var].astype(category_var)\n",
    "\n"
   ]
  },
  {
   "cell_type": "markdown",
   "metadata": {},
   "source": [
    "#### Test"
   ]
  },
  {
   "cell_type": "code",
   "execution_count": 9,
   "metadata": {},
   "outputs": [
    {
     "data": {
      "text/plain": [
       "duration_sec                  int64\n",
       "start_time                   object\n",
       "end_time                     object\n",
       "start_station_id            float64\n",
       "start_station_name           object\n",
       "start_station_latitude      float64\n",
       "start_station_longitude     float64\n",
       "end_station_id              float64\n",
       "end_station_name             object\n",
       "end_station_latitude        float64\n",
       "end_station_longitude       float64\n",
       "bike_id                       int64\n",
       "user_type                  category\n",
       "member_birth_year           float64\n",
       "member_gender              category\n",
       "bike_share_for_all_trip    category\n",
       "dtype: object"
      ]
     },
     "execution_count": 9,
     "metadata": {},
     "output_type": "execute_result"
    }
   ],
   "source": [
    "df.dtypes"
   ]
  },
  {
   "attachments": {},
   "cell_type": "markdown",
   "metadata": {},
   "source": [
    "### Isuess #2: dropping missing values\n",
    "We are dropping these columns because there is no other way to fill in these data. we can't take the measure of its ccentral tendencies to compute their values."
   ]
  },
  {
   "cell_type": "markdown",
   "metadata": {},
   "source": [
    "#### Code:"
   ]
  },
  {
   "cell_type": "code",
   "execution_count": 10,
   "metadata": {},
   "outputs": [],
   "source": [
    "# to prevent null values error, we drop them\n",
    "df.dropna(inplace=True)"
   ]
  },
  {
   "cell_type": "markdown",
   "metadata": {},
   "source": [
    "#### Test:"
   ]
  },
  {
   "cell_type": "code",
   "execution_count": 11,
   "metadata": {},
   "outputs": [
    {
     "data": {
      "text/plain": [
       "duration_sec               0\n",
       "start_time                 0\n",
       "end_time                   0\n",
       "start_station_id           0\n",
       "start_station_name         0\n",
       "start_station_latitude     0\n",
       "start_station_longitude    0\n",
       "end_station_id             0\n",
       "end_station_name           0\n",
       "end_station_latitude       0\n",
       "end_station_longitude      0\n",
       "bike_id                    0\n",
       "user_type                  0\n",
       "member_birth_year          0\n",
       "member_gender              0\n",
       "bike_share_for_all_trip    0\n",
       "dtype: int64"
      ]
     },
     "execution_count": 11,
     "metadata": {},
     "output_type": "execute_result"
    }
   ],
   "source": [
    "df.isnull().sum()"
   ]
  },
  {
   "cell_type": "markdown",
   "metadata": {},
   "source": [
    "#### Issue #3: changing `start_time` and `end_time` columns to datetime."
   ]
  },
  {
   "cell_type": "code",
   "execution_count": 12,
   "metadata": {},
   "outputs": [],
   "source": [
    "# indexing the columns \n",
    "cols = df.columns[1:3]\n",
    "\n",
    "# converting the indexed columns to datetime\n",
    "df[cols] = df[cols].apply(pd.to_datetime, errors='coerce')\n"
   ]
  },
  {
   "attachments": {},
   "cell_type": "markdown",
   "metadata": {},
   "source": [
    "#### Issue #4: Data description shows a minimum `member_birth_year` of 1878. This is an obvious error, and should be dropped."
   ]
  },
  {
   "cell_type": "code",
   "execution_count": 13,
   "metadata": {},
   "outputs": [],
   "source": [
    "df=df[df.member_birth_year > 1919] "
   ]
  },
  {
   "cell_type": "code",
   "execution_count": 15,
   "metadata": {},
   "outputs": [
    {
     "data": {
      "text/plain": [
       "1920.0"
      ]
     },
     "execution_count": 15,
     "metadata": {},
     "output_type": "execute_result"
    }
   ],
   "source": [
    "df.member_birth_year.min()"
   ]
  },
  {
   "cell_type": "markdown",
   "metadata": {},
   "source": [
    "## Feature Engineering"
   ]
  },
  {
   "attachments": {},
   "cell_type": "markdown",
   "metadata": {},
   "source": [
    "Here, i'll modify the columns of the dataset such that more data is extracted and visualizations are easier.\n",
    "* First, I need to extract hour, day, month from the start and end_time column. this extraction makes it easy to compute for volatility grouped by hours and day."
   ]
  },
  {
   "cell_type": "code",
   "execution_count": 15,
   "metadata": {},
   "outputs": [
    {
     "data": {
      "text/html": [
       "<div>\n",
       "<style scoped>\n",
       "    .dataframe tbody tr th:only-of-type {\n",
       "        vertical-align: middle;\n",
       "    }\n",
       "\n",
       "    .dataframe tbody tr th {\n",
       "        vertical-align: top;\n",
       "    }\n",
       "\n",
       "    .dataframe thead th {\n",
       "        text-align: right;\n",
       "    }\n",
       "</style>\n",
       "<table border=\"1\" class=\"dataframe\">\n",
       "  <thead>\n",
       "    <tr style=\"text-align: right;\">\n",
       "      <th></th>\n",
       "      <th>duration_sec</th>\n",
       "      <th>start_time</th>\n",
       "      <th>end_time</th>\n",
       "      <th>start_station_id</th>\n",
       "      <th>start_station_name</th>\n",
       "      <th>start_station_latitude</th>\n",
       "      <th>start_station_longitude</th>\n",
       "      <th>end_station_id</th>\n",
       "      <th>end_station_name</th>\n",
       "      <th>end_station_latitude</th>\n",
       "      <th>...</th>\n",
       "      <th>member_birth_year</th>\n",
       "      <th>member_gender</th>\n",
       "      <th>bike_share_for_all_trip</th>\n",
       "      <th>start_year</th>\n",
       "      <th>start_month</th>\n",
       "      <th>start_day</th>\n",
       "      <th>start_hr</th>\n",
       "      <th>end_month</th>\n",
       "      <th>end_day</th>\n",
       "      <th>end_hr</th>\n",
       "    </tr>\n",
       "  </thead>\n",
       "  <tbody>\n",
       "    <tr>\n",
       "      <th>0</th>\n",
       "      <td>52185</td>\n",
       "      <td>2019-02-28 17:32:10.145</td>\n",
       "      <td>2019-03-01 08:01:55.975</td>\n",
       "      <td>21.0</td>\n",
       "      <td>Montgomery St BART Station (Market St at 2nd St)</td>\n",
       "      <td>37.789625</td>\n",
       "      <td>-122.400811</td>\n",
       "      <td>13.0</td>\n",
       "      <td>Commercial St at Montgomery St</td>\n",
       "      <td>37.794231</td>\n",
       "      <td>...</td>\n",
       "      <td>1984.0</td>\n",
       "      <td>Male</td>\n",
       "      <td>No</td>\n",
       "      <td>2019</td>\n",
       "      <td>February</td>\n",
       "      <td>Thursday</td>\n",
       "      <td>17</td>\n",
       "      <td>March</td>\n",
       "      <td>Friday</td>\n",
       "      <td>8</td>\n",
       "    </tr>\n",
       "    <tr>\n",
       "      <th>2</th>\n",
       "      <td>61854</td>\n",
       "      <td>2019-02-28 12:13:13.218</td>\n",
       "      <td>2019-03-01 05:24:08.146</td>\n",
       "      <td>86.0</td>\n",
       "      <td>Market St at Dolores St</td>\n",
       "      <td>37.769305</td>\n",
       "      <td>-122.426826</td>\n",
       "      <td>3.0</td>\n",
       "      <td>Powell St BART Station (Market St at 4th St)</td>\n",
       "      <td>37.786375</td>\n",
       "      <td>...</td>\n",
       "      <td>1972.0</td>\n",
       "      <td>Male</td>\n",
       "      <td>No</td>\n",
       "      <td>2019</td>\n",
       "      <td>February</td>\n",
       "      <td>Thursday</td>\n",
       "      <td>12</td>\n",
       "      <td>March</td>\n",
       "      <td>Friday</td>\n",
       "      <td>5</td>\n",
       "    </tr>\n",
       "    <tr>\n",
       "      <th>3</th>\n",
       "      <td>36490</td>\n",
       "      <td>2019-02-28 17:54:26.010</td>\n",
       "      <td>2019-03-01 04:02:36.842</td>\n",
       "      <td>375.0</td>\n",
       "      <td>Grove St at Masonic Ave</td>\n",
       "      <td>37.774836</td>\n",
       "      <td>-122.446546</td>\n",
       "      <td>70.0</td>\n",
       "      <td>Central Ave at Fell St</td>\n",
       "      <td>37.773311</td>\n",
       "      <td>...</td>\n",
       "      <td>1989.0</td>\n",
       "      <td>Other</td>\n",
       "      <td>No</td>\n",
       "      <td>2019</td>\n",
       "      <td>February</td>\n",
       "      <td>Thursday</td>\n",
       "      <td>17</td>\n",
       "      <td>March</td>\n",
       "      <td>Friday</td>\n",
       "      <td>4</td>\n",
       "    </tr>\n",
       "  </tbody>\n",
       "</table>\n",
       "<p>3 rows × 23 columns</p>\n",
       "</div>"
      ],
      "text/plain": [
       "   duration_sec              start_time                end_time  \\\n",
       "0         52185 2019-02-28 17:32:10.145 2019-03-01 08:01:55.975   \n",
       "2         61854 2019-02-28 12:13:13.218 2019-03-01 05:24:08.146   \n",
       "3         36490 2019-02-28 17:54:26.010 2019-03-01 04:02:36.842   \n",
       "\n",
       "   start_station_id                                start_station_name  \\\n",
       "0              21.0  Montgomery St BART Station (Market St at 2nd St)   \n",
       "2              86.0                           Market St at Dolores St   \n",
       "3             375.0                           Grove St at Masonic Ave   \n",
       "\n",
       "   start_station_latitude  start_station_longitude  end_station_id  \\\n",
       "0               37.789625              -122.400811            13.0   \n",
       "2               37.769305              -122.426826             3.0   \n",
       "3               37.774836              -122.446546            70.0   \n",
       "\n",
       "                               end_station_name  end_station_latitude  ...  \\\n",
       "0                Commercial St at Montgomery St             37.794231  ...   \n",
       "2  Powell St BART Station (Market St at 4th St)             37.786375  ...   \n",
       "3                        Central Ave at Fell St             37.773311  ...   \n",
       "\n",
       "   member_birth_year  member_gender bike_share_for_all_trip  start_year  \\\n",
       "0             1984.0           Male                      No        2019   \n",
       "2             1972.0           Male                      No        2019   \n",
       "3             1989.0          Other                      No        2019   \n",
       "\n",
       "  start_month start_day  start_hr end_month end_day end_hr  \n",
       "0    February  Thursday        17     March  Friday      8  \n",
       "2    February  Thursday        12     March  Friday      5  \n",
       "3    February  Thursday        17     March  Friday      4  \n",
       "\n",
       "[3 rows x 23 columns]"
      ]
     },
     "execution_count": 15,
     "metadata": {},
     "output_type": "execute_result"
    }
   ],
   "source": [
    "# Extracting the index columns to dt\n",
    "df['start_year'] = df['start_time'].dt.year\n",
    "df['start_month'] = df['start_time'].dt.month_name()\n",
    "df['start_day'] = df['start_time'].dt.day_name()\n",
    "df['start_hr'] = df['start_time'].dt.hour\n",
    "df['start_hr'] = df['start_hr'].astype(str)\n",
    "\n",
    "# df['end_year'] = df['end_time'].dt.year\n",
    "df['end_month'] = df['end_time'].dt.month_name()\n",
    "df['end_day'] = df['end_time'].dt.day_name()\n",
    "df['end_hr'] = df['end_time'].dt.hour\n",
    "df['end_hr'] = df.end_hr.astype(str)\n",
    "\n",
    "df.head(3)"
   ]
  },
  {
   "attachments": {},
   "cell_type": "markdown",
   "metadata": {},
   "source": [
    "* Then convert day and hour to ordered categorical data types which is what they represent in this particular dataset and also makes for easy wrangling and visualization."
   ]
  },
  {
   "cell_type": "code",
   "execution_count": 16,
   "metadata": {},
   "outputs": [],
   "source": [
    "# convert day, and hour into ordered categorical types\n",
    "ordinal_var_dict = {'start_day' : ['Monday','Tuesday','Wednesday','Thursday','Friday', 'Saturday', 'Sunday'],\n",
    "                    'end_day': ['Monday','Tuesday','Wednesday','Thursday','Friday', 'Saturday', 'Sunday'],\n",
    "                   'start_hr': [str(i) for i in range(0,24)],\n",
    "                   'end_hr': [str(i) for i in range(0,24)]\n",
    "                   }\n",
    "\n",
    "for var in ordinal_var_dict:\n",
    "    ordered_var = pd.api.types.CategoricalDtype(ordered = True,\n",
    "                                                categories = ordinal_var_dict[var])\n",
    "    df[var] = df[var].astype(ordered_var)"
   ]
  },
  {
   "attachments": {},
   "cell_type": "markdown",
   "metadata": {},
   "source": [
    "* Next, I create `age_group` column containing the ages of the riders. I'd want to evaluate customer usage by age group. So, first i'll extract their ages from the `member_birth_year` and `start_year` as follows:"
   ]
  },
  {
   "cell_type": "code",
   "execution_count": 17,
   "metadata": {},
   "outputs": [],
   "source": [
    "# first, we create an age column\n",
    "df['age'] = df['start_year'] - df['member_birth_year']\n",
    "# using pandas_cut function to cut the age column.\n",
    "# create the bin_edges that will be used to cut the data into groups.\n",
    "bin_edges = [1, 18, 37.0, 57.0, 110]\n",
    "\n",
    "# create labels for the new categories.\n",
    "bin_names = ['Gen Z', 'Milennials', 'Gen X', 'Bloomers']\n",
    "\n",
    "# puting the pandas_cut function to use\n",
    "df['age_groups'] = pd.cut(df['age'], bin_edges, labels = bin_names)\n"
   ]
  },
  {
   "cell_type": "code",
   "execution_count": 14,
   "metadata": {},
   "outputs": [
    {
     "data": {
      "text/html": [
       "<div>\n",
       "<style scoped>\n",
       "    .dataframe tbody tr th:only-of-type {\n",
       "        vertical-align: middle;\n",
       "    }\n",
       "\n",
       "    .dataframe tbody tr th {\n",
       "        vertical-align: top;\n",
       "    }\n",
       "\n",
       "    .dataframe thead th {\n",
       "        text-align: right;\n",
       "    }\n",
       "</style>\n",
       "<table border=\"1\" class=\"dataframe\">\n",
       "  <thead>\n",
       "    <tr style=\"text-align: right;\">\n",
       "      <th></th>\n",
       "      <th>duration_sec</th>\n",
       "      <th>start_station_id</th>\n",
       "      <th>start_station_latitude</th>\n",
       "      <th>start_station_longitude</th>\n",
       "      <th>end_station_id</th>\n",
       "      <th>end_station_latitude</th>\n",
       "      <th>end_station_longitude</th>\n",
       "      <th>bike_id</th>\n",
       "      <th>member_birth_year</th>\n",
       "    </tr>\n",
       "  </thead>\n",
       "  <tbody>\n",
       "    <tr>\n",
       "      <th>count</th>\n",
       "      <td>174880.000000</td>\n",
       "      <td>174880.000000</td>\n",
       "      <td>174880.000000</td>\n",
       "      <td>174880.000000</td>\n",
       "      <td>174880.000000</td>\n",
       "      <td>174880.000000</td>\n",
       "      <td>174880.000000</td>\n",
       "      <td>174880.000000</td>\n",
       "      <td>174880.000000</td>\n",
       "    </tr>\n",
       "    <tr>\n",
       "      <th>mean</th>\n",
       "      <td>704.022358</td>\n",
       "      <td>138.978528</td>\n",
       "      <td>37.771207</td>\n",
       "      <td>-122.351759</td>\n",
       "      <td>136.602573</td>\n",
       "      <td>37.771401</td>\n",
       "      <td>-122.351336</td>\n",
       "      <td>4482.549051</td>\n",
       "      <td>1984.837957</td>\n",
       "    </tr>\n",
       "    <tr>\n",
       "      <th>std</th>\n",
       "      <td>1642.514884</td>\n",
       "      <td>111.636735</td>\n",
       "      <td>0.100408</td>\n",
       "      <td>0.117746</td>\n",
       "      <td>111.332869</td>\n",
       "      <td>0.100312</td>\n",
       "      <td>0.117310</td>\n",
       "      <td>1659.205536</td>\n",
       "      <td>9.974001</td>\n",
       "    </tr>\n",
       "    <tr>\n",
       "      <th>min</th>\n",
       "      <td>61.000000</td>\n",
       "      <td>3.000000</td>\n",
       "      <td>37.317298</td>\n",
       "      <td>-122.453704</td>\n",
       "      <td>3.000000</td>\n",
       "      <td>37.317298</td>\n",
       "      <td>-122.453704</td>\n",
       "      <td>11.000000</td>\n",
       "      <td>1920.000000</td>\n",
       "    </tr>\n",
       "    <tr>\n",
       "      <th>25%</th>\n",
       "      <td>323.000000</td>\n",
       "      <td>47.000000</td>\n",
       "      <td>37.770407</td>\n",
       "      <td>-122.411901</td>\n",
       "      <td>44.000000</td>\n",
       "      <td>37.770407</td>\n",
       "      <td>-122.411647</td>\n",
       "      <td>3799.000000</td>\n",
       "      <td>1980.000000</td>\n",
       "    </tr>\n",
       "    <tr>\n",
       "      <th>50%</th>\n",
       "      <td>510.000000</td>\n",
       "      <td>104.000000</td>\n",
       "      <td>37.780760</td>\n",
       "      <td>-122.398279</td>\n",
       "      <td>101.000000</td>\n",
       "      <td>37.781010</td>\n",
       "      <td>-122.397437</td>\n",
       "      <td>4960.000000</td>\n",
       "      <td>1987.000000</td>\n",
       "    </tr>\n",
       "    <tr>\n",
       "      <th>75%</th>\n",
       "      <td>789.000000</td>\n",
       "      <td>239.000000</td>\n",
       "      <td>37.797320</td>\n",
       "      <td>-122.283093</td>\n",
       "      <td>238.000000</td>\n",
       "      <td>37.797673</td>\n",
       "      <td>-122.286533</td>\n",
       "      <td>5505.000000</td>\n",
       "      <td>1992.000000</td>\n",
       "    </tr>\n",
       "    <tr>\n",
       "      <th>max</th>\n",
       "      <td>84548.000000</td>\n",
       "      <td>398.000000</td>\n",
       "      <td>37.880222</td>\n",
       "      <td>-121.874119</td>\n",
       "      <td>398.000000</td>\n",
       "      <td>37.880222</td>\n",
       "      <td>-121.874119</td>\n",
       "      <td>6645.000000</td>\n",
       "      <td>2001.000000</td>\n",
       "    </tr>\n",
       "  </tbody>\n",
       "</table>\n",
       "</div>"
      ],
      "text/plain": [
       "        duration_sec  start_station_id  start_station_latitude  \\\n",
       "count  174880.000000     174880.000000           174880.000000   \n",
       "mean      704.022358        138.978528               37.771207   \n",
       "std      1642.514884        111.636735                0.100408   \n",
       "min        61.000000          3.000000               37.317298   \n",
       "25%       323.000000         47.000000               37.770407   \n",
       "50%       510.000000        104.000000               37.780760   \n",
       "75%       789.000000        239.000000               37.797320   \n",
       "max     84548.000000        398.000000               37.880222   \n",
       "\n",
       "       start_station_longitude  end_station_id  end_station_latitude  \\\n",
       "count            174880.000000   174880.000000         174880.000000   \n",
       "mean               -122.351759      136.602573             37.771401   \n",
       "std                   0.117746      111.332869              0.100312   \n",
       "min                -122.453704        3.000000             37.317298   \n",
       "25%                -122.411901       44.000000             37.770407   \n",
       "50%                -122.398279      101.000000             37.781010   \n",
       "75%                -122.283093      238.000000             37.797673   \n",
       "max                -121.874119      398.000000             37.880222   \n",
       "\n",
       "       end_station_longitude        bike_id  member_birth_year  \n",
       "count          174880.000000  174880.000000      174880.000000  \n",
       "mean             -122.351336    4482.549051        1984.837957  \n",
       "std                 0.117310    1659.205536           9.974001  \n",
       "min              -122.453704      11.000000        1920.000000  \n",
       "25%              -122.411647    3799.000000        1980.000000  \n",
       "50%              -122.397437    4960.000000        1987.000000  \n",
       "75%              -122.286533    5505.000000        1992.000000  \n",
       "max              -121.874119    6645.000000        2001.000000  "
      ]
     },
     "execution_count": 14,
     "metadata": {},
     "output_type": "execute_result"
    }
   ],
   "source": [
    "# now that we've adjsuted th data type, let's describe the dataset using pandas\n",
    "df.describe()"
   ]
  },
  {
   "cell_type": "markdown",
   "metadata": {},
   "source": [
    "## Data Exploration"
   ]
  },
  {
   "cell_type": "markdown",
   "metadata": {},
   "source": [
    "### What is the structure of your dataset?\n",
    "\n",
    "> Initial, there were 183,412 rides with 16 variables. After my preliminary wrangling, 174,952 rides with 20 variables, the variables shows the duration of rides, type of rider(customer or subscriber), the age_groups of riders, gender of riders, bike_share data, start and end days of rides almost others.\n",
    "\n",
    "### What is/are the main feature(s) of interest in your dataset?\n",
    "\n",
    "> I'm intrested in finding out which of the variables influence the duration of rides and to what degree.\n",
    "\n",
    "### What features in the dataset do you think will help support your investigation into your feature(s) of interest?\n",
    "\n",
    "> I'll be focusing\n",
    "* on riders age_group to know if younger riders ride longer.\n",
    "* Will also look at the gender variable,\n",
    "* membership status of the rider\n",
    "* bike share data.\n",
    "* type of rider\n",
    "* start and end (hr, day, month)"
   ]
  },
  {
   "cell_type": "markdown",
   "metadata": {},
   "source": [
    "## Univariate Exploration\n",
    "\n",
    "### Question 1: What is the average recorded trip duration"
   ]
  },
  {
   "cell_type": "code",
   "execution_count": null,
   "metadata": {},
   "outputs": [],
   "source": [
    "# using a standard-scaled histplot\n",
    "plt.figure(figsize=[8,6])\n",
    "sb.histplot(data=df, x='duration_sec');"
   ]
  },
  {
   "cell_type": "code",
   "execution_count": null,
   "metadata": {},
   "outputs": [],
   "source": [
    "# the data is highly skewed, so for more even distributuion we'll change the scaling to log\n",
    "plt.figure(figsize = [8,6])\n",
    "g=sb.histplot(data = df, x ='duration_sec', log_scale = True)\n",
    "x_ticks=[100, 300, 600, 1000, 3000, 10000, 30000]\n",
    "g.set(xticks=x_ticks, xticklabels=x_ticks)\n",
    "plt.xlim(0,10000);"
   ]
  },
  {
   "cell_type": "markdown",
   "metadata": {},
   "source": [
    "Duration_sec has a long-tailed distribution, with a lot of ride on the low duration side and very few on the high end. Changing the scale to a log scale shows a single duration peak between 300 and 1000 duration sec. Therefore from the logarithmic scaling, the average trip duration is 510secs."
   ]
  },
  {
   "cell_type": "markdown",
   "metadata": {},
   "source": [
    "### Question 2: Of the two user_types, which has the highest frequncy"
   ]
  },
  {
   "cell_type": "code",
   "execution_count": null,
   "metadata": {},
   "outputs": [],
   "source": [
    "# since User_types is a quantitative variabe, using a bar plot, \n",
    "# i'll place the categorical variable(user_type) on the x-axis\n",
    "#selecting a single color\n",
    "base_color = sb.color_palette()[1]\n",
    "sb.countplot(data=df, x = 'user_type' , color=base_color)\n",
    "print(df.user_type.value_counts())"
   ]
  },
  {
   "cell_type": "markdown",
   "metadata": {},
   "source": [
    "The above visualization shows that a large volume of users of the Ford Gobike are subscribed to the services."
   ]
  },
  {
   "cell_type": "markdown",
   "metadata": {},
   "source": [
    "### Question #3: Which is the busiest day of the week?"
   ]
  },
  {
   "cell_type": "code",
   "execution_count": null,
   "metadata": {},
   "outputs": [],
   "source": [
    "# we'll analysis the daily ride frequncy to get the busiest day of the week\n",
    "# since we have start_day and end_day, we'll use seaborn\n",
    "# countplot plot type to plot 2 subplots.\n",
    "\n",
    "# creating a figure size and axes number\n",
    "fig, ax = plt.subplots(2, figsize = [7,9])\n",
    "sb.countplot(data = df, x = 'start_day', color = base_color, ax = ax[0])\n",
    "sb.countplot(data = df, x = 'end_day', color = base_color, ax = ax[1])"
   ]
  },
  {
   "cell_type": "markdown",
   "metadata": {},
   "source": [
    "From the above plots, the busiest day is clearly thursdays for both start day and end day. This is closely followed by Tuesday and Friday accordingly. And weekends seem to have the lowest of rides."
   ]
  },
  {
   "cell_type": "markdown",
   "metadata": {},
   "source": [
    "### Question #4: Which is the busiest hour of the day?"
   ]
  },
  {
   "cell_type": "code",
   "execution_count": null,
   "metadata": {},
   "outputs": [],
   "source": [
    "# here, we'll analyze the hour ride frequency for the start and end hours.\n",
    "fig, ax = plt.subplots(2, figsize = [7,9])\n",
    "sb.countplot(data = df, x = 'start_hr', color = base_color, ax = ax[0])\n",
    "sb.countplot(data = df, x = 'end_hr', color = base_color, ax = ax[1])"
   ]
  },
  {
   "cell_type": "markdown",
   "metadata": {},
   "source": [
    "The plots above are bimodal, showing 2 peak points around 8:00 hrs and 17:00 hrs. This coincidence with morning and evening rush hours. Also interesting to note that the earliest hours of the days (0 - 5hrs) has the least rides."
   ]
  },
  {
   "cell_type": "markdown",
   "metadata": {},
   "source": [
    "### Question #5: Which Gender is the most frequent user?"
   ]
  },
  {
   "cell_type": "code",
   "execution_count": null,
   "metadata": {},
   "outputs": [],
   "source": [
    "# Since it's also a categorical variable with 3 categories a pie chart will best describe the relationship.\n",
    "# first we create a value count variable for the 'member_gender'\n",
    "sorted_counts = df['member_gender'].value_counts()\n",
    "\n",
    "# plotting the pie chart \n",
    "plt.pie(sorted_counts, labels=sorted_counts.index, \n",
    "        colors=['blue', 'orange', 'brown'], startangle=90, counterclock=False)\n",
    "plt.axis('square');"
   ]
  },
  {
   "cell_type": "markdown",
   "metadata": {},
   "source": [
    "The above visualization hows that most of the riders in the dataset are male, followed by females then others."
   ]
  },
  {
   "cell_type": "markdown",
   "metadata": {},
   "source": [
    "### Question #6: Which Age group rides the most?"
   ]
  },
  {
   "cell_type": "code",
   "execution_count": null,
   "metadata": {},
   "outputs": [],
   "source": [
    "# plotting the age_group distribution\n",
    "plt.figure(figsize = [6,6])\n",
    "print(df.age_groups.value_counts())\n",
    "sb.countplot(data = df, x = 'age_groups', color = base_color);"
   ]
  },
  {
   "cell_type": "markdown",
   "metadata": {},
   "source": [
    "This show that majority of the riders are milennials, followed by Gen X and bloomers. Maybe the company should run a targeted ad for Gen z's as they are greatly not using the ride"
   ]
  },
  {
   "cell_type": "markdown",
   "metadata": {},
   "source": [
    "### Question #7: How often do RIders share there ride?"
   ]
  },
  {
   "cell_type": "code",
   "execution_count": null,
   "metadata": {},
   "outputs": [],
   "source": [
    "# using a waffle plot\n",
    "# lets create a function that to decide how many blocks to allocate each category\n",
    "def percentage_blocks(df, var):\n",
    "    # compute base quotas\n",
    "    percentages = 100 * df[var].value_counts() / df.shape[0]\n",
    "    counts = np.floor(percentages).astype(int)\n",
    "    decimal = (percentages - counts).sort_values(ascending = False)\n",
    "    \n",
    "    # add in additional counts to reach 100\n",
    "    rem = 100 - counts.sum()\n",
    "    for cat in decimal.index[:rem]:\n",
    "        counts[cat] += 1\n",
    "        \n",
    "    return counts"
   ]
  },
  {
   "cell_type": "code",
   "execution_count": null,
   "metadata": {},
   "outputs": [],
   "source": [
    "waffle_counts = percentage_blocks(df, 'bike_share_for_all_trip')\n",
    "plt.figure(figsize=[10,10])\n",
    "prev_count = 0\n",
    "# for each category\n",
    "for share in range(waffle_counts.shape[0]):\n",
    "    # get the block indices\n",
    "    blocks = np.arange(prev_count, prev_count + waffle_counts[share])\n",
    "    # and put a block at each index's location\n",
    "    x = blocks  % 10 # use mod operation to get ones digit\n",
    "    y = blocks // 10 # use floor division to get ones digit\n",
    "    plt.bar(x = x, height = 0.8, width = 0.8, bottom = y)\n",
    "    prev_count += waffle_counts[share]\n",
    "   \n",
    "plt.legend(waffle_counts.index, bbox_to_anchor = (1, 0.5), loc = 6)\n",
    "plt.axis('off')\n",
    "plt.axis('square');"
   ]
  },
  {
   "cell_type": "markdown",
   "metadata": {},
   "source": [
    "The Waffleplot indicates that about 90% of riders didnt share their rides. "
   ]
  },
  {
   "cell_type": "markdown",
   "metadata": {},
   "source": [
    "### Discuss the distribution(s) of your variable(s) of interest. Were there any unusual points? Did you need to perform any transformations?\n",
    "\n",
    "> My primary variable of interest is the `duration_sec` variable, a normal scaled point of the variable looked irregular. To amend this, i looked at the data using a log transform.This scaling shows a normal distribution with a single duration peak between 300 and 1000 duration sec.\n",
    "\n",
    "### Of the features you investigated, were there any unusual distributions? Did you perform any operations on the data to tidy, adjust, or change the form of the data? If so, why did you do this?\n",
    "\n",
    "> I checked for the age distribution of riders. To get this, i needed to wrangle the `start_time`, `end_time` column and the `member_birth_time` column. This was done to extract the hours, days, and age of the riders. The age was finally transformed to `age_groups` where the different ages were grouped into generations.\n"
   ]
  },
  {
   "cell_type": "markdown",
   "metadata": {},
   "source": [
    "## Bivariate Exploration"
   ]
  },
  {
   "cell_type": "markdown",
   "metadata": {},
   "source": [
    "In this section, i'll be plotting charts to observe the relationship between 2 variable.\n",
    "The variables explored in the univarate exploration will be grouped into numeric and categorical variables."
   ]
  },
  {
   "cell_type": "markdown",
   "metadata": {},
   "source": [
    "### Question #8: Summary statistics of the categorical variables with respect to Ride duration"
   ]
  },
  {
   "cell_type": "code",
   "execution_count": null,
   "metadata": {},
   "outputs": [],
   "source": [
    "# first let's group the numerical variables and the categoric variables in 2\n",
    "numeric_vars =['duration_sec']\n",
    "cat_vars1 = ['age_groups', 'user_type', 'member_gender', 'bike_share_for_all_trip']\n",
    "cat_vars = ['start_hr', 'start_day', 'end_hr', 'end_day']"
   ]
  },
  {
   "cell_type": "markdown",
   "metadata": {},
   "source": [
    "#### Question 8a: Let's see how `age_groups`, `user_type` and `member_gender` relate with `duration_sec`"
   ]
  },
  {
   "cell_type": "code",
   "execution_count": null,
   "metadata": {},
   "outputs": [],
   "source": [
    "# plot matrix of numeric features against categorical features.\n",
    "# due to the large dataset,i'll be sampling 3000 random data for this plot.\n",
    "# we'll use the PairGird plot\n",
    "df_samp = df.sample(n=4000, replace = False)\n",
    "\n",
    "def boxgrid(x, y, **kwargs):\n",
    "    default_color = sb.color_palette()[2]\n",
    "    sb.boxplot(x, y, color = default_color)\n",
    "    \n",
    "plt.figure(figsize = [10,20])\n",
    "g = sb.PairGrid(data = df_samp, y_vars = 'duration_sec', x_vars = \n",
    "                ['age_groups', 'user_type', 'member_gender', 'bike_share_for_all_trip'], height = 5)\n",
    "\n",
    "plt.yscale('log')\n",
    "y_ticks=[100, 300, 1000, 3000, 10000, 30000]\n",
    "g.set(yticks=y_ticks, yticklabels=y_ticks)\n",
    "plt.ylim([50,5000])\n",
    "g.map(boxgrid)\n",
    "plt.show"
   ]
  },
  {
   "cell_type": "markdown",
   "metadata": {},
   "source": [
    "> THe plot above displays the summary statistics of some caegorical variables (age_groups, user_type, member_gender, bike_share). It shows the median duration across these variables. Across the age group variable, the median value increase from the millenials to the bloomers.\n",
    "\n",
    "> In the user_type plot, the median trip duration is highest for the Customers than the Subscribers.\n",
    "\n",
    "> In the member_gender plot, 'other' category has the highest median trip duration followed by Females.\n",
    "\n",
    "> Finally in the bike_share variable, the 'No' category has a higher median trip duration.\n"
   ]
  },
  {
   "cell_type": "markdown",
   "metadata": {},
   "source": [
    "#### Question 8b: Next, we plot for `duration_sec` vs `end_hr` and `start_hr`"
   ]
  },
  {
   "cell_type": "code",
   "execution_count": null,
   "metadata": {},
   "outputs": [],
   "source": [
    "# duration_sec vs start_hr\n",
    "# checking the average ride duration per start hour\n",
    "# using groupby to arrange duration_sec and start_hr\n",
    "df_SD = df.groupby('start_hr', as_index=False)['duration_sec'].mean()\n",
    "\n",
    "# defining a function to plot the relationship\n",
    "def plot (df, xlabel, ylabel, title):\n",
    "    df.plot(kind = 'bar', figsize=(35,10))\n",
    "    plt.xlabel(\"{}\".format(xlabel), fontsize = 30)\n",
    "    plt.ylabel(\"{}\".format(ylabel), fontsize = 30)\n",
    "    plt.title(label = title, fontsize = 30)\n",
    "    plt.legend;\n",
    "    plt.show()\n",
    "\n",
    "# calling the function\n",
    "plot(df_SD, 'Start hour', 'Duration Sec', 'Average Ride Duration by Start hours')"
   ]
  },
  {
   "cell_type": "code",
   "execution_count": null,
   "metadata": {},
   "outputs": [],
   "source": [
    "# duration_sec vs end_hr\n",
    "# checking the average ride duration per end hour\n",
    "# using groupby to arrange duration_sec and end_hr\n",
    "df_ED = df.groupby('end_hr', as_index=False)['duration_sec'].mean()\n",
    "\n",
    "# calling the function\n",
    "plot(df_SD, 'End hour', 'Duration Sec', 'Average Ride Duration by End hours')"
   ]
  },
  {
   "cell_type": "markdown",
   "metadata": {},
   "source": [
    "From the 2 plots above, hours of 3 and 2 has the highest ride by average. This is in contrast to the countplot shown in univariate exploration. This shows that though the hours of 2 and 3 has the least number of rides, such ride last the longest when averaged. This could be explained as people reserving important long distance trip for the early hours of the day. When there's less traffic congestion."
   ]
  },
  {
   "cell_type": "markdown",
   "metadata": {},
   "source": [
    "#### Question 8c: Average Ride duration by `start_day` and `end_day`?"
   ]
  },
  {
   "cell_type": "code",
   "execution_count": null,
   "metadata": {},
   "outputs": [],
   "source": [
    "# duration_sec vs start_start_day\n",
    "# checking the average ride duration per start_day\n",
    "# using groupby to arrange duration_sec and start_day\n",
    "df_sD = df.groupby('start_day')['duration_sec'].mean()\n",
    "\n",
    "# calling the function\n",
    "plot(df_sD, 'Start day', 'Duration Sec', 'Average Ride Duration by Start days')"
   ]
  },
  {
   "cell_type": "code",
   "execution_count": null,
   "metadata": {},
   "outputs": [],
   "source": [
    "# duration_sec vs start_start_day\n",
    "# checking the average ride duration per start_day\n",
    "# using groupby to arrange duration_sec and start_day\n",
    "df_eD = df.groupby('end_day')['duration_sec'].mean()\n",
    "\n",
    "# calling the function\n",
    "plot(df_eD, 'End Day', 'Duration Sec.', 'Average Ride Duration by End days')"
   ]
  },
  {
   "cell_type": "markdown",
   "metadata": {},
   "source": [
    "From the plots above, Saturdays and Sundays rides are the longest. Though Thursdays and Tuesdays has the highest number of rides per day but on the average, saturday and sunday rides are the longest. This could be weekend getaways."
   ]
  },
  {
   "cell_type": "markdown",
   "metadata": {},
   "source": [
    "### Question 9: Relationship between `user_type`, `member_gender`, `bike_share_for_all_trip`."
   ]
  },
  {
   "cell_type": "code",
   "execution_count": null,
   "metadata": {},
   "outputs": [],
   "source": [
    "plt.figure(figsize=[10,10])\n",
    "\n",
    "#subplot 1: user_type vs member_gender\n",
    "plt.subplot(3,1,1)\n",
    "sb.countplot(data=df, x='user_type', hue='member_gender', palette='Oranges')\n",
    "\n",
    "#subplot 2: user_type vs bike_share_for_all_trip\n",
    "plt.subplot(3,1,2)\n",
    "sb.countplot(data=df, x='user_type', hue='bike_share_for_all_trip', palette='Blues')\n",
    "\n",
    "#subplot 3: member_gender vs bike_share_for_all_trip\n",
    "plt.subplot(3,1,3)\n",
    "sb.countplot(data=df, x='member_gender', hue='bike_share_for_all_trip',palette='Greens')\n"
   ]
  },
  {
   "cell_type": "markdown",
   "metadata": {},
   "source": [
    "The first plot shows that; Male Subscribers and Customers are more in number than other genders.\n",
    "\n",
    "The second plot shows that SUbscribers are more unwilling to share rides.\n",
    "\n",
    "The third plot shows that male subsribers are more unwilling to share rides than other genders."
   ]
  },
  {
   "cell_type": "markdown",
   "metadata": {},
   "source": [
    "#### Q10: Average Ride duration by Age Group"
   ]
  },
  {
   "cell_type": "code",
   "execution_count": null,
   "metadata": {},
   "outputs": [],
   "source": [
    "# duration_sec vs age_groups\n",
    "# checking the average ride duration per age groups\n",
    "# using groupby to arrange duration_sec and age groups\n",
    "df_AD = df.groupby('age_groups')['duration_sec'].mean()\n",
    "\n",
    "# defining a function to plot the relationship\n",
    "def plot2 (df, xlabel, ylabel, title):\n",
    "    df.plot(kind = 'line', figsize=(35,10))\n",
    "    plt.xlabel(\"{}\".format(xlabel), fontsize = 30)\n",
    "    plt.ylabel(\"{}\".format(ylabel), fontsize = 30)\n",
    "    plt.title(label = title, fontsize = 30)\n",
    "    plt.legend;\n",
    "    plt.show()\n",
    "    \n",
    "# calling the function\n",
    "plot2(df_AD, 'Age Group', 'Duration Sec', 'Average Ride Duration by Age Group')"
   ]
  },
  {
   "cell_type": "markdown",
   "metadata": {},
   "source": [
    "On the average, Gen Z riders ride longer than other group of riders. If the company can seriously target this demography, chances of revenue growth exists."
   ]
  },
  {
   "cell_type": "markdown",
   "metadata": {},
   "source": [
    "### Talk about some of the relationships you observed in this part of the investigation. How did the feature(s) of interest vary with other features in the dataset?\n"
   ]
  },
  {
   "cell_type": "markdown",
   "metadata": {},
   "source": [
    "## Multivariate Exploration\n",
    "\n",
    "> In this section, i'll be looking out for more relationship between multiple variables."
   ]
  },
  {
   "cell_type": "markdown",
   "metadata": {},
   "source": [
    "#### Question 10: relationship between Trip duration, day of the week and Gender"
   ]
  },
  {
   "cell_type": "markdown",
   "metadata": {},
   "source": [
    "From the previous plots, we've establish that the average ride duration is between 500 to 600 hours, we have also established that Thursdays followed by Tuesdays has the highest number of rides and male gender engage in more rides than other genders. Let's now see how these three variables relates when plotted against the mean duration like we did in bivariate section."
   ]
  },
  {
   "cell_type": "code",
   "execution_count": null,
   "metadata": {},
   "outputs": [],
   "source": [
    "# Using the seaborn pointplot\n",
    "# plot of gender and days against average trip duration.\n",
    "# let's create a figure object\n",
    "fig = plt.figure(figsize = [8, 10])\n",
    "ax = sb.pointplot(data = df, x = 'start_day', y = 'duration_sec', hue = 'member_gender', \n",
    "             linestyles = '-', markers = ['^', 'o', 'x',])\n",
    "plt.title('Average Trip Duration across Week days and Genders')\n",
    "plt.ylabel('Average Trip Duration (secs)')\n",
    "ax.set_yticklabels([],minor = True)\n",
    "plt.show();"
   ]
  },
  {
   "cell_type": "markdown",
   "metadata": {},
   "source": [
    "The above plot shows that on the average, other gender has longer ride duration than other genders and sunday happens to be the day with the longest followed by saturday. Average checks the total duration rode by each gender and divides by the total number of rides. "
   ]
  },
  {
   "cell_type": "code",
   "execution_count": null,
   "metadata": {
    "scrolled": true
   },
   "outputs": [],
   "source": [
    "fig = plt.figure(figsize = [8, 10])\n",
    "ax = sb.pointplot(data = df, x = 'start_day', y = 'duration_sec', hue = 'age_groups', \n",
    "             linestyles = '-', markers = ['^', 'o', 'x','+'])\n",
    "plt.title('Average Trip Duration across Week days and Age Groups')\n",
    "plt.ylabel('Average Trip Duration (secs)')\n",
    "ax.set_yticklabels([],minor = True)\n",
    "plt.show();"
   ]
  },
  {
   "cell_type": "markdown",
   "metadata": {},
   "source": [
    "> This plot shows that irrespective of the day, on the average Gen Z riders has the longest ride duration and these rides are longest on Saturday followed by Sunday and Friday."
   ]
  },
  {
   "cell_type": "markdown",
   "metadata": {},
   "source": [
    "### Talk about some of the relationships you observed in this part of the investigation. How did the feature(s) of interest vary with other features in the dataset?\n",
    "\n",
    "> On the average, 'other gender' riders makes the longest trips on Sunday followed by Saturday. While the shortest ride (on average) is made by males on Tuesday.\n",
    "> Also, Gen Z riders avearge out more minutes than other age groups and such long trips happens mostly on weekends, with Saturady the longest."
   ]
  },
  {
   "cell_type": "markdown",
   "metadata": {},
   "source": [
    "## Conclusions\n",
    "\n",
    "> Having feature engineered the start and end days, age group from the already dataset, the following conclusions can be made:\n",
    "* The average duration of trips is about 510 seconds.\n",
    "* More trips were registered for Thursday and Tuesday than other days in the week, whilst weekends registered the least.\n",
    "* More trips were registered around the 8th and 9th hour in the morning and 17th to 18th hour in the evening.\n",
    "* large chunck of trips were taken by male Subscribers.\n",
    "* On an average, the longest trips are rides made on weekends by 'other gender' riders especially those within the Gen Z age bracket. "
   ]
  },
  {
   "cell_type": "code",
   "execution_count": null,
   "metadata": {},
   "outputs": [],
   "source": [
    "from subprocess import call\n",
    "call(['python', '-m', 'nbconvert', 'Ford GoBike System Data Part 1.ipynb'])"
   ]
  }
 ],
 "metadata": {
  "kernelspec": {
   "display_name": "Python 3.8.5 ('base')",
   "language": "python",
   "name": "python3"
  },
  "language_info": {
   "codemirror_mode": {
    "name": "ipython",
    "version": 3
   },
   "file_extension": ".py",
   "mimetype": "text/x-python",
   "name": "python",
   "nbconvert_exporter": "python",
   "pygments_lexer": "ipython3",
   "version": "3.8.5"
  },
  "vscode": {
   "interpreter": {
    "hash": "ad2bdc8ecc057115af97d19610ffacc2b4e99fae6737bb82f5d7fb13d2f2c186"
   }
  }
 },
 "nbformat": 4,
 "nbformat_minor": 2
}
